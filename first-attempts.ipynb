{
 "cells": [
  {
   "cell_type": "markdown",
   "metadata": {},
   "source": [
    "## Constants:\n",
    "- x_0 is initial position\n",
    "- v_0 is initial velocity\n",
    "- h is the desired time step\n",
    "## Coefficient Functions:\n",
    "- a(t) is the coefficient to the second order term\n",
    "- b(t) is the coefficient to the first order term\n",
    "- c(t) is the coefficient to the 0th order term\n",
    "- d(t) is the driving force\n",
    "## Variables:\n",
    "- t is the time\n"
   ]
  },
  {
   "cell_type": "markdown",
   "metadata": {},
   "source": [
    "# Backend"
   ]
  },
  {
   "cell_type": "code",
   "execution_count": null,
   "metadata": {},
   "outputs": [],
   "source": [
    "import math\n"
   ]
  },
  {
   "cell_type": "code",
   "execution_count": 428,
   "metadata": {},
   "outputs": [],
   "source": [
    "def firstOrder(v_0,x_0,h):\n",
    "    x_1=h*v_0+x_0\n",
    "    return x_1"
   ]
  },
  {
   "cell_type": "code",
   "execution_count": 429,
   "metadata": {},
   "outputs": [],
   "source": [
    "def secondOrder(v_0,x_1,h,b,a,c,d,t,zerothOrderParam,firstOrderParam):\n",
    "    slope = (d(t)-b(t)*firstOrderParam(v_0)-c(t)*zerothOrderParam(x_1))/a(t)\n",
    "    v_1= h*slope+v_0\n",
    "    return v_1"
   ]
  },
  {
   "cell_type": "code",
   "execution_count": 430,
   "metadata": {},
   "outputs": [],
   "source": [
    "def RK_weighting(v):\n",
    "    v_weighted = 1/6*(v[0]+2*v[1]+2*v[2]+v[3])\n",
    "    return v_weighted"
   ]
  },
  {
   "cell_type": "code",
   "execution_count": 431,
   "metadata": {},
   "outputs": [],
   "source": [
    "def euler(x_0,v_0,iterations,h,a,b,c,d,zerothOrderParam,firstOrderParam):\n",
    "    x = []\n",
    "    time = []\n",
    "    for i in range(int(iterations/h)):\n",
    "        t = h*i\n",
    "        x_1 = firstOrder(v_0,x_0,h)\n",
    "        # This term is recorded in this iteration\n",
    "        v_1 = secondOrder(v_0,x_1,h,b,a,c,d,t,zerothOrderParam,firstOrderParam)\n",
    "        # This term is used in the second iteration\n",
    "        x_0 = x_1\n",
    "        x.append(x_0)\n",
    "        time.append(t)\n",
    "        v_0 = v_1\n",
    "    return x,time"
   ]
  },
  {
   "cell_type": "code",
   "execution_count": 432,
   "metadata": {},
   "outputs": [],
   "source": [
    "def RK4(x_0,v_0,iterations,h,a,b,c,d,zerothOrderParam,firstOrderParam):\n",
    "    x=[]\n",
    "    time = []\n",
    "    for i in range(int(iterations/h)):\n",
    "        t_i = i*h\n",
    "        v = [v_0]\n",
    "        for j in range(3):\n",
    "            x_j = firstOrder(v[j],x_0,h)\n",
    "            # This term is recorded in this iteration\n",
    "            v.append(secondOrder(v[j],x_j,h,b,a,c,d,t_i,zerothOrderParam,firstOrderParam))\n",
    "            # This term is used in the second iteration\n",
    "            x_0 = x_j\n",
    "            # x_i is an imaginary point used for calculation\n",
    "        # with the weighted average of this v, we then actually do the x step size\n",
    "        v_weighted = RK_weighting(v)\n",
    "        v = [v_weighted]\n",
    "        x_1 = firstOrder(v_weighted,x_0,h)\n",
    "        x.append(x_1)\n",
    "        time.append(t_i)\n",
    "        x_0=x_1\n",
    "        v_0 = v_weighted\n",
    "    return x,time\n"
   ]
  },
  {
   "cell_type": "markdown",
   "metadata": {},
   "source": [
    "# Frontend\n",
    "The following algorithm works with all equations of the form:"
   ]
  },
  {
   "cell_type": "markdown",
   "metadata": {},
   "source": [
    "$$\n",
    "A(t) \\frac{d^2x}{dt^2} + B\\left(\\frac{dx}{dt}\\right) + C(x) = D(t)\n",
    "$$\n",
    "\n",
    "Given that the user inputs an initial position and velocity"
   ]
  },
  {
   "cell_type": "code",
   "execution_count": 513,
   "metadata": {},
   "outputs": [],
   "source": [
    "# COEFFICIENTS\n",
    "x_0 = 1.5\n",
    "v_0 = 0\n",
    "string_length=10\n",
    "def A(t):\n",
    "    return 1\n",
    "def B(t):\n",
    "    return 0\n",
    "# Drag above\n",
    "def C(t):\n",
    "    return 0\n",
    "def D(t):\n",
    "    return 0\n",
    "# Driving forec\n",
    "    # return t\n",
    "# functions taking the derivatives as a parameter\n",
    "def zerothOrderParam(x):\n",
    "    return (9.8*math.sin(x))/string_length\n",
    "def firstOrderParam(v):\n",
    "    return v \n"
   ]
  },
  {
   "cell_type": "code",
   "execution_count": 514,
   "metadata": {},
   "outputs": [],
   "source": [
    "time = 30\n",
    "RKx,RKt = RK4(x_0,v_0,time,.001,A,B,C,D,zerothOrderParam,firstOrderParam)\n",
    "EulerX,EulerT= euler(x_0,v_0,time,.001,A,B,C,D,zerothOrderParam,firstOrderParam)\n"
   ]
  },
  {
   "cell_type": "code",
   "execution_count": 515,
   "metadata": {},
   "outputs": [
    {
     "data": {
      "image/png": "[encoded data removed]",
      "text/plain": [
       "<Figure size 432x288 with 1 Axes>"
      ]
     },
     "metadata": {},
     "output_type": "display_data"
    }
   ],
   "source": [
    "import matplotlib.pyplot as plt\n",
    "\n",
    "plt.title(\"Euler vs RK4 Underdamped\")\n",
    "plt.style.use('seaborn-whitegrid')\n",
    "plt.plot(RKt,RKx,color='red',label='RK4')\n",
    "plt.plot(EulerT,EulerX,color='blue',label='Euler')\n",
    "plt.legend(fancybox = True,shadow= True,facecolor='white')\n",
    "\n",
    "plt.ylabel('Radians')\n",
    "plt.xlabel('Time (seconds)')\n",
    "plt.savefig(fname = 'Underdamped',dpi = 300,facecolor = 'white')"
   ]
  },
  {
   "cell_type": "markdown",
   "metadata": {},
   "source": [
    "# Saving "
   ]
  },
  {
   "cell_type": "code",
   "execution_count": 505,
   "metadata": {},
   "outputs": [
    {
     "data": {
      "text/plain": [
       "720"
      ]
     },
     "execution_count": 505,
     "metadata": {},
     "output_type": "execute_result"
    }
   ],
   "source": [
    "import json\n",
    "x=[]\n",
    "y=[]\n",
    "r=10\n",
    "neededFrames = 24*time\n",
    "rounds = math.trunc(len(EulerT)/neededFrames)\n",
    "\n",
    "final_saved = {'FrameCount':neededFrames,'Count':1,'frames':[[]]}\n",
    "for i in range(neededFrames):\n",
    "    x=10*math.cos(RKx[i*41])\n",
    "    y=10*math.sin(RKx[i*41])\n",
    "    final_saved['frames'][0].append([y,0,-x+string_length])\n",
    "\n",
    "len(final_saved['frames'][0])"
   ]
  },
  {
   "cell_type": "code",
   "execution_count": 506,
   "metadata": {},
   "outputs": [],
   "source": [
    "with open(\"undampened.json\", \"w\") as outfile:\n",
    "    json.dump(final_saved, outfile)"
   ]
  }
 ],
 "metadata": {
  "kernelspec": {
   "display_name": "Python 3.9.6 64-bit",
   "language": "python",
   "name": "python3"
  },
  "language_info": {
   "codemirror_mode": {
    "name": "ipython",
    "version": 3
   },
   "file_extension": ".py",
   "mimetype": "text/x-python",
   "name": "python",
   "nbconvert_exporter": "python",
   "pygments_lexer": "ipython3",
   "version": "3.9.6"
  },
  "orig_nbformat": 4,
  "vscode": {
   "interpreter": {
    "hash": "73e99867994bed8ab4e3fb143e1a9c0a09df8739f443cc6ab33630cda57eb163"
   }
  }
 },
 "nbformat": 4,
 "nbformat_minor": 2
}
